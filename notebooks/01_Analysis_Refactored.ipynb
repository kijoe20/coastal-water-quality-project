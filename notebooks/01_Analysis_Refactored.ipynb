{
 "cells": [
  {
   "cell_type": "markdown",
   "metadata": {},
   "source": [
    "# packages"
   ]
  },
  {
   "cell_type": "code",
   "execution_count": null,
   "metadata": {},
   "outputs": [],
   "source": [
    "!pip install siphon netCDF4 pandas statsmodels geopandas matplotlib cartopy"
   ]
  },
  {
   "cell_type": "markdown",
   "metadata": {},
   "source": [
    "# Task (MAIN)\n",
    "Analyze EPD marine water quality data using Python (Pandas, Geopandas, Matplotlib, Scipy/Statsmodels). You are provided two CSV files:\n\n",
    "mirs_bay_data.csv: Contains water quality measurements with station identifiers and dates.\n\n",
    "station_locations.csv: Contains station identifiers (Station column assumed) and their corresponding Latitude (Lat assumed) and Longitude (Lon assumed).\n\n",
    "Perform the following:\n\n",
    "Load & Inspect: Load both CSVs into separate DataFrames (df_wq, df_loc). Print column names, data types, and basic info for both. Identify unique stations in df_wq. Identify station/lat/lon columns in df_loc.\n\n",
    "Merge Data: Merge df_wq with df_loc based on the common station identifier column (find actual names). Perform a left merge (how='left') to keep all water quality records. Report any water quality stations missing location data after the merge. Use the resulting merged DataFrame (merged_df) for all subsequent analysis.\n\n",
    "Clean (merged_df):\n\n",
    "Convert date column (find name) to datetime objects and set as index. Handle potential errors (errors='coerce'). Drop rows where date conversion failed.\n\n",
    "Identify and convert key parameter columns (Chlorophyll-a (\u03bcg/L), Temperature (\u00b0C), Salinity (psu), Total Inorganic Nitrogen (mg/L), Orthophosphate Phosphorus (mg/L), E. coli (cfu/100mL), Turbidity (NTU), Dissolved Oxygen (%saturation)) to numeric (pd.to_numeric, errors='coerce').\n\n",
    "Report count of NaNs per key parameter column after cleaning.\n\n",
    "Spatial (merged_df): Create and display a map of unique station locations using the Lat/Lon columns from the merged data.\n\n",
    "Descriptive Stats (merged_df): Calculate and display summary statistics (.describe()) for the key parameters for the entire dataset.\n\n",
    "Here is all the data you need:\n",
    "\"mirs_bay_data.csv\"\n",
    "\"station_locations.csv\""
   ]
  },
  {
   "cell_type": "code",
   "execution_count": null,
   "metadata": {},
   "outputs": [],
   "source": [
    "# Standard library imports\n",
    "import pandas as pd\n",
    "import numpy as np\n",
    "import matplotlib.pyplot as plt\n",
    "from scipy.stats import pearsonr\n",
    "import sys\n\n",
    "# Add scripts folder to path to find our custom functions\n",
    "sys.path.append('../scripts')\n",
    "from analysis_utils import mann_kendall_test, sen_slope"
   ]
  },
  {
   "cell_type": "markdown",
   "metadata": {},
   "source": [
    "## Data loading\n\n",
    "### Subtask:\n",
    "Load the provided CSV files into pandas DataFrames."
   ]
  },
  {
   "cell_type": "markdown",
   "metadata": {},
   "source": [
    "**Reasoning**:\n",
    "Import pandas and load the two CSV files into pandas DataFrames."
   ]
  },
  {
   "cell_type": "code",
   "execution_count": null,
   "metadata": {},
   "outputs": [],
   "source": [
    "try:\n",
    "    df_wq = pd.read_csv('../2_marine_water_quality.csv')\n",
    "    df_loc = pd.read_csv('../station_locations.csv')\n",
    "    print(\"Successfully loaded both CSV files.\")\n",
    "except FileNotFoundError:\n",
    "    print(\"Error: One or both CSV files not found.\")\n",
    "    df_wq = None\n",
    "    df_loc = None\n",
    "except Exception as e:\n",
    "    print(f\"An error occurred: {e}\")\n",
    "    df_wq = None\n",
    "    df_loc = None"
   ]
  },
  {
   "cell_type": "markdown",
   "metadata": {},
   "source": [
    "**Reasoning**:\n",
    "The two dataframes have been successfully loaded. Now inspect the dataframes by printing column names, data types, and basic info for both."
   ]
  },
  {
   "cell_type": "code",
   "execution_count": null,
   "metadata": {},
   "outputs": [],
   "source": [
    "if df_wq is not None and df_loc is not None:\n",
    "    print(\"Water Quality Data:\")\n",
    "    print(\"Columns:\", df_wq.columns)\n",
    "    print(\"Data Types:\", df_wq.dtypes)\n",
    "    print(\"Info:\", df_wq.info())\n",
    "    print(\"\\nStation Location Data:\")\n",
    "    print(\"Columns:\", df_loc.columns)\n",
    "    print(\"Data Types:\", df_loc.dtypes)\n",
    "    print(\"Info:\", df_loc.info())\n",
    "    unique_stations_wq = df_wq['Station'].unique()\n",
    "    print(f\"\\nUnique stations in df_wq:\\n{unique_stations_wq}\")\n",
    "    print(f\"\\nStation/Lat/Lon columns in df_loc:\\n{df_loc.columns}\")\n",
    "else:\n",
    "    print(\"DataFrames not loaded correctly. Cannot proceed with inspection.\")"
   ]
  },
  {
   "cell_type": "markdown",
   "metadata": {},
   "source": [
    "## Data wrangling\n\n",
    "### Subtask:\n",
    "Merge the water quality data (`df_wq`) with the station location data (`df_loc`)."
   ]
  },
  {
   "cell_type": "markdown",
   "metadata": {},
   "source": [
    "**Reasoning**:\n",
    "Merge the two dataframes `df_wq` and `df_loc` based on the 'Station' column using a left merge. Then identify stations in `df_wq` that are missing location data in the merged dataframe."
   ]
  },
  {
   "cell_type": "code",
   "execution_count": null,
   "metadata": {},
   "outputs": [],
   "source": [
    "# Merge the two dataframes\n",
    "merged_df = pd.merge(df_wq, df_loc, on='Station', how='left')\n\n",
    "# Identify stations missing location data\n",
    "missing_location = merged_df[merged_df['Lat'].isnull()]['Station'].unique()\n\n",
    "# Report the stations missing location data\n",
    "if missing_location.size > 0:\n",
    "    print(\"Stations in df_wq missing location data in df_loc:\")\n",
    "    print(missing_location)\n",
    "else:\n",
    "    print(\"No stations in df_wq are missing location data in df_loc.\")"
   ]
  },
  {
   "cell_type": "markdown",
   "metadata": {},
   "source": [
    "## Data cleaning\n\n",
    "### Subtask:\n",
    "Clean the merged data, including date conversion, handling missing values, and converting relevant columns to numeric types."
   ]
  },
  {
   "cell_type": "markdown",
   "metadata": {},
   "source": [
    "**Reasoning**:\n",
    "Convert the 'Dates' column to datetime, handle errors, and set it as the index. Then, convert specified columns to numeric, handling errors, and count NaN values in those columns."
   ]
  },
  {
   "cell_type": "code",
   "execution_count": null,
   "metadata": {},
   "outputs": [],
   "source": [
    "# Convert 'Dates' column to datetime and handle errors\n",
    "merged_df['Dates'] = pd.to_datetime(merged_df['Dates'], errors='coerce')\n\n",
    "# Remove rows with NaT values in the 'Dates' column\n",
    "merged_df = merged_df.dropna(subset=['Dates'])\n\n",
    "# Set 'Dates' column as index\n",
    "merged_df = merged_df.set_index('Dates')\n\n",
    "# Identify key parameter columns and convert them to numeric, handling errors\n",
    "key_parameters = ['Chlorophyll-a (\u03bcg/L)', 'Temperature (\u00b0C)', 'Salinity (psu)',\n",
    "                  'Total Inorganic Nitrogen (mg/L)', 'Orthophosphate Phosphorus (mg/L)',\n",
    "                  'E. coli (cfu/100mL)', 'Turbidity (NTU)', 'Dissolved Oxygen (%saturation)']\n\n",
    "for col in key_parameters:\n",
    "    merged_df[col] = pd.to_numeric(merged_df[col], errors='coerce')\n\n",
    "# Calculate and report the number of NaN values in each key parameter column\n",
    "nan_counts = merged_df[key_parameters].isnull().sum()\n",
    "print(\"Number of NaN values in each key parameter column:\\n\", nan_counts)"
   ]
  },
  {
   "cell_type": "markdown",
   "metadata": {},
   "source": [
    "## Data preparation\n\n",
    "### Subtask:\n",
    "Calculate monthly averages for each key water quality parameter across all stations."
   ]
  },
  {
   "cell_type": "markdown",
   "metadata": {},
   "source": [
    "**Reasoning**:\n",
    "Group the data by month and calculate the monthly averages for the key water quality parameters."
   ]
  },
  {
   "cell_type": "code",
   "execution_count": null,
   "metadata": {},
   "outputs": [],
   "source": [
    "# Group data by month and calculate monthly averages\n",
    "key_parameters = ['Chlorophyll-a (\u03bcg/L)', 'Temperature (\u00b0C)', 'Salinity (psu)',\n",
    "                  'Total Inorganic Nitrogen (mg/L)', 'Orthophosphate Phosphorus (mg/L)',\n",
    "                  'E. coli (cfu/100mL)', 'Turbidity (NTU)', 'Dissolved Oxygen (%saturation)']\n",
    "monthly_averages = merged_df[key_parameters].resample('ME').mean()\n",
    "display(monthly_averages.head())"
   ]
  },
  {
   "cell_type": "markdown",
   "metadata": {},
   "source": [
    "## Data visualization\n\n",
    "### Subtask:\n",
    "Visualize the station locations on a map and create time series plots of the monthly averages for each key water quality parameter."
   ]
  },
  {
   "cell_type": "markdown",
   "metadata": {},
   "source": [
    "**Reasoning**:\n",
    "Create a scatter plot of station locations and time series plots for each key water quality parameter."
   ]
  },
  {
   "cell_type": "code",
   "execution_count": null,
   "metadata": {},
   "outputs": [],
   "source": [
    "# 1. Station Location Map\n",
    "plt.figure(figsize=(10, 6))\n",
    "plt.scatter(merged_df['Lon'], merged_df['Lat'], marker='o', alpha=0.5)\n",
    "plt.xlabel('Longitude')\n",
    "plt.ylabel('Latitude')\n",
    "plt.title('Station Locations')\n",
    "plt.savefig('station_locations_map.png')\n",
    "plt.show()\n\n",
    "# 2. Time Series Plots\n",
    "key_parameters = ['Chlorophyll-a (\u03bcg/L)', 'Temperature (\u00b0C)', 'Salinity (psu)',\n",
    "                  'Total Inorganic Nitrogen (mg/L)', 'Orthophosphate Phosphorus (mg/L)',\n",
    "                  'E. coli (cfu/100mL)', 'Turbidity (NTU)', 'Dissolved Oxygen (%saturation)']\n\n",
    "for param in key_parameters:\n",
    "    plt.figure(figsize=(10, 6))\n\n",
    "    # Compute rolling mean\n",
    "    rolling_mean = monthly_averages[param].rolling(window=12, min_periods=1).mean()\n\n",
    "    # Plot original data\n",
    "    plt.plot(monthly_averages.index, monthly_averages[param], label='Original Data', alpha=0.6)\n\n",
    "    # Plot rolling mean\n",
    "    plt.plot(monthly_averages.index, rolling_mean, label=f'{12}-Month Rolling Mean', color='red')\n\n",
    "    plt.xlabel('Date')\n",
    "    plt.ylabel(param)\n",
    "    plt.title(f'Monthly Average of {param} over Time')\n",
    "    plt.xticks(rotation=45)\n",
    "    plt.legend()\n",
    "    plt.tight_layout()\n",
    "    plt.savefig(f'{param.replace(\"/\", \"_\").replace(\" \", \"_\").replace(\"(\", \"_\").replace(\")\", \"_\")}_timeseries.png')\n",
    "    plt.show()"
   ]
  },
  {
   "cell_type": "markdown",
   "metadata": {},
   "source": [
    "## Data analysis\n\n",
    "### Subtask:\n",
    "Perform Mann-Kendall trend analysis and calculate Sen's slope for monthly averages of Temperature, Chlorophyll-a, and Dissolved Oxygen.  Calculate Pearson correlation coefficients between monthly averages of Temperature vs. Chlorophyll-a and Temperature vs. Dissolved Oxygen."
   ]
  },
  {
   "cell_type": "markdown",
   "metadata": {},
   "source": [
    "**Reasoning**:\n",
    "Perform Mann-Kendall trend analysis, calculate Sen's slope, and Pearson correlation coefficients as requested, then compile the results into a summary dictionary."
   ]
  },
  {
   "cell_type": "code",
   "execution_count": null,
   "metadata": {},
   "outputs": [],
   "source": [
    "results = {}\n\n",
    "for param in ['Temperature (\u00b0C)', 'Chlorophyll-a (\u03bcg/L)', 'Dissolved Oxygen (%saturation)']:\n",
    "    p_value = mann_kendall_test(monthly_averages[param].dropna().values)\n",
    "    results[param] = {'Mann-Kendall p-value': p_value,\n",
    "                      'Significant (p<0.05)': p_value < 0.05,\n",
    "                      \"Sen's Slope\": sen_slope(monthly_averages[param].dropna().values)}\n\n\n",
    "# Calculate Pearson correlations\n",
    "temp_chl_clean_data = monthly_averages[['Temperature (\u00b0C)', 'Chlorophyll-a (\u03bcg/L)']].dropna()\n",
    "temp_chl_corr = pearsonr(temp_chl_clean_data['Temperature (\u00b0C)'], temp_chl_clean_data['Chlorophyll-a (\u03bcg/L)'])\n\n",
    "temp_do_clean_data = monthly_averages[['Temperature (\u00b0C)', 'Dissolved Oxygen (%saturation)']].dropna()\n",
    "temp_do_corr = pearsonr(temp_do_clean_data['Temperature (\u00b0C)'], temp_do_clean_data['Dissolved Oxygen (%saturation)'])\n\n",
    "results['Temperature vs Chlorophyll-a'] = {'Pearson Correlation': temp_chl_corr[0], 'p-value': temp_chl_corr[1]}\n",
    "results['Temperature vs Dissolved Oxygen'] = {'Pearson Correlation': temp_do_corr[0], 'p-value': temp_do_corr[1]}\n\n",
    "for key, value in results.items():\n",
    "    print(key, value)"
   ]
  },
  {
   "cell_type": "markdown",
   "metadata": {},
   "source": [
    "## Summary:\n\n",
    "### 1. Q&A\n\n",
    "* **Are there any water quality stations missing location data?** No, all stations in the water quality dataset have corresponding location information.\n",
    "* **What is the number of NaN values for each key parameter after cleaning?**  The number of NaN values varies per parameter: Chlorophyll-a (383), Temperature (10), Salinity (31), Total Inorganic Nitrogen (132), Orthophosphate Phosphorus (1427), E. coli (10385), Turbidity (3), Dissolved Oxygen (14).\n",
    "* **Are there any significant trends in Temperature, Chlorophyll-a, and Dissolved Oxygen based on the Mann-Kendall test?** Temperature and Chlorophyll-a show significant increasing trends (p < 0.05), while Dissolved Oxygen does not show a significant trend.\n",
    "* **What are the Sen's slopes for Temperature, Chlorophyll-a, and Dissolved Oxygen?**  Temperature: 0.00389, Chlorophyll-a: 0.00197, Dissolved Oxygen: -0.00365\n",
    "* **What are the Pearson correlation coefficients between Temperature and Chlorophyll-a, and Temperature and Dissolved Oxygen?** Temperature vs Chlorophyll-a: 0.137 (p=0.00387); Temperature vs Dissolved Oxygen: -0.366 (p=2.01e-15)\n\n\n",
    "### 2. Data Analysis Key Findings\n\n",
    "* **Missing Data:**  A substantial number of NaN values exist in the 'E. coli (cfu/100mL)' and 'Orthophosphate Phosphorus (mg/L)' parameters (10385 and 1427, respectively).  This suggests potential data collection issues or limitations.\n",
    "* **Significant Trends:**  Both Temperature and Chlorophyll-a exhibit statistically significant increasing trends over time (Mann-Kendall p-values < 0.05).  Dissolved Oxygen does not show a significant trend.\n",
    "* **Temperature Correlations:** Temperature shows a weak positive correlation with Chlorophyll-a (Pearson correlation = 0.137, p = 0.00387) and a moderate negative correlation with Dissolved Oxygen (Pearson correlation = -0.366, p = 2.01e-15).  The negative correlation between temperature and dissolved oxygen suggests a potential relationship where higher temperatures could lead to lower dissolved oxygen levels, which is plausible due to decreased solubility of oxygen in warmer water.\n",
    "* **Sen's Slope:** Sen's slopes provide the magnitude of the trends: Temperature (0.00389), Chlorophyll-a (0.00197), Dissolved Oxygen (-0.00365).\n\n\n",
    "### 3. Insights or Next Steps\n\n",
    "* **Investigate Missing Data:**  Prioritize understanding the reasons for the high number of missing values in 'E. coli' and 'Orthophosphate Phosphorus'.  Explore potential imputation methods or investigate the data collection procedures to address the missing data.\n",
    "* **Further Explore Temperature Relationships:** Given the significant correlations between temperature and other parameters, further investigation is warranted to determine causal relationships and potential ecological implications. Explore more advanced statistical models or time series analysis techniques to investigate those relationships in more detail."
   ]
  }
 ],
 "metadata": {
  "kernelspec": {
   "display_name": "Python 3",
   "language": "python",
   "name": "python3"
  },
  "language_info": {
   "codemirror_mode": {
    "name": "ipython",
    "version": 3
   },
   "file_extension": ".py",
   "mimetype": "text/x-python",
   "name": "python",
   "nbconvert_exporter": "python",
   "pygments_lexer": "ipython3",
   "version": "3.8.5"
  }
 },
 "nbformat": 4,
 "nbformat_minor": 4
}